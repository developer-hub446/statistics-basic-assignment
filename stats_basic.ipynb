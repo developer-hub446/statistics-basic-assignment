{
  "nbformat": 4,
  "nbformat_minor": 0,
  "metadata": {
    "colab": {
      "provenance": []
    },
    "kernelspec": {
      "name": "python3",
      "display_name": "Python 3"
    },
    "language_info": {
      "name": "python"
    }
  },
  "cells": [
    {
      "cell_type": "markdown",
      "source": [
        "                                     statistics  basic Assignment\n",
        "\n",
        "\n",
        "Question 1: What is the difference between descriptive statistics and inferential\n",
        "statistics? Explain with examples.\n",
        "\n",
        "-> Descriptive statistics summarize and describe the main features of a dataset, while inferential statistics use sample data to make predictions or generalizations about a larger population. Descriptive statistics answer \"what is\" and use measures like mean, median, and standard deviation, whereas inferential statistics answer \"what could be\" or \"why\" by performing hypothesis tests and estimations.\n",
        "\n",
        "* Descriptive Statistics\n",
        "Purpose: To organize, summarize, and present data in an understandable way.\n",
        "Methods: Involves using charts, graphs, and numerical summaries such as:\n",
        "Measures of Central Tendency: Mean, median, and mode.\n",
        "Measures of Dispersion: Variance, range, and standard deviation.\n",
        "Example: A company conducts a survey of 100 employees and finds the average age of the employees is 35 years. This is descriptive statistics because it describes the characteristics of the specific group of 100 surveyed employees.\n",
        "\n",
        "\n",
        "* Inferential Statistics\n",
        "Purpose: To make inferences, predictions, or conclusions about a whole population based on a sample of data.\n",
        "Methods: Utilizes probability and hypothesis testing to draw broader conclusions and quantify the reliability of those conclusions. Examples include:\n",
        "Hypothesis tests\n",
        "Confidence intervals\n",
        "Regression analysis\n",
        "Example: To understand whether a new drug is effective for the entire population, researchers test it on a small, random sample of patients. They then use inferential statistics to make a conclusion about the drug's efficacy for all patients with the condition, with a certain level of confidence.\n",
        "\n",
        "\n",
        "Question 2: What is sampling in statistics? Explain the differences between random\n",
        "and stratified sampling.\n",
        "\n",
        "\n",
        "-> What is Sampling?\n",
        "Purpose: To study a smaller, representative subset of a population to make inferences about the entire group.\n",
        "Benefits: It makes data collection faster, easier, and more cost-effective, especially for large populations.\n",
        "How it works: A carefully selected sample is analyzed to understand the characteristics and trends within the larger population.\n",
        "\n",
        "\n",
        "* Simple Random Sampling\n",
        "Definition: Every individual or item in the population has an equal probability of being selected for the sample.\n",
        "Process: Selection is done by chance, for example, using random number tables.\n",
        "Goal: To create an unbiased sample, but it doesn't guarantee representation of all subgroups within the population.\n",
        "Example: A researcher wants to survey students at a large university and randomly picks 100 names from the complete student roster.\n",
        "\n",
        "\n",
        "* Stratified Sampling\n",
        "Definition: The population is first divided into homogeneous subgroups, or strata, based on specific characteristics such as age, gender, or income.\n",
        "Process: Random samples are then drawn from each of these strata.\n",
        "Goal: To ensure that all subgroups are represented in the sample, which can provide a more accurate and balanced view of the population.\n",
        "Example: For a study on student preferences, a researcher might divide the student body into freshmen, sophomores, juniors, and seniors, and then randomly select students from each group.\n",
        "\n",
        "\n",
        "\n",
        "Question 3: Define mean, median, and mode. Explain why these measures of central\n",
        "tendency are important.\n",
        "\n",
        "-> Definitions of Mean, Median, and Mode\n",
        "Mean: The arithmetic mean is found by summing all the numbers in a dataset and dividing by the total count of numbers.\n",
        "Median: The median is the middle value in a dataset that has been ordered from smallest to largest. If there is an even number of data points, the median is the average of the two middle values.\n",
        "Mode: The mode is the value that appears most often in a dataset. A dataset can have more than one mode or no mode at all.\n",
        "\n",
        "\n",
        "* Why These Measures Are Important\n",
        "Summarizing Data: They provide a single, concise value to describe the \"center\" or \"typical\" value of a large dataset, making it easier to grasp the overall picture.\n",
        "\n",
        "Understanding Data Distribution: Each measure offers a different perspective: the mean reflects the overall average, the median shows the central point unaffected by extreme values, and the mode highlights the most common occurrence.\n",
        "\n",
        "Decision-Making: By understanding these central points, analysts and decision-makers can gain insights into patterns and trends within the data, leading to more informed conclusions.\n",
        "\n",
        "Comparing Datasets: Mean, median, and mode allow for comparisons between different groups or datasets, helping to identify similarities or differences in their central characteristics.\n",
        "\n",
        "Identifying Outliers: The median is particularly useful because it is less affected by outliers (extremely high or low values) compared to the mean, providing a more robust measure of central tendency in skewed datasets.\n",
        "\n",
        "Versatility: The mode is unique in its ability to be applied to categorical (non-numerical) data, such as favorite colors or types of products, in addition to numerical data.\n",
        "\n",
        "\n",
        "Question 4: Explain skewness and kurtosis. What does a positive skew imply about the\n",
        "data?\n",
        "\n",
        "\n",
        "->\n",
        "* Skewness\n",
        "Definition: The degree to which a data distribution is asymmetrical, meaning its left and right sides are not mirror images.\n",
        "Types:\n",
        "Positive Skew (Right Skew): Has a longer, fatter right tail, with more data concentrated on the lower end of the scale.\n",
        "Negative Skew (Left Skew): Has a longer, fatter left tail, with more data concentrated on the higher end.\n",
        "Zero Skew: A perfectly symmetrical distribution where the left and right sides are mirror images, and the mean, median, and mode are equal.\n",
        "\n",
        "* Kurtosis\n",
        "Definition: Measures the peakedness of a distribution's peak and the weight of its tails compared to a normal distribution.\n",
        "Types (relative to a normal distribution, which has a kurtosis of 3 or an excess kurtosis of 0):\n",
        "Mesokurtic: A normal distribution with a kurtosis value of 3 (or excess kurtosis of 0).\n",
        "Leptokurtic: Has a sharper, more peaked distribution with heavier tails than a normal distribution (kurtosis > 3).\n",
        "Platykurtic: Has a flatter peak and lighter tails than a normal distribution (kurtosis < 3).\n",
        "\n",
        "\n",
        "* What a Positive Skew Implies\n",
        "Longer Right Tail: The most prominent characteristic is a long, stretched-out tail to the right.\n",
        "Mean > Median > Mode: The mean will be greater than the median and mode, indicating that the extreme high values in the right tail are pulling the mean upwards.\n",
        "Data Concentration: A larger concentration of data points is located on the left (lower) side of the distribution.\n",
        "Outliers: The longer tail may suggest the presence of a few extreme high-value outliers.\n",
        "\n",
        "\n",
        "Question 5: Implement a Python program to compute the mean, median, and mode of\n",
        "a given list of numbers. numbers = [12, 15, 12, 18, 19, 12, 20, 22, 19, 19, 24, 24, 24, 26, 28]\n",
        "\n",
        "->"
      ],
      "metadata": {
        "id": "WS8xoJdysdI-"
      }
    },
    {
      "cell_type": "code",
      "source": [
        "import numpy as np\n",
        "\n",
        "numbers = [12, 15, 12, 18, 19, 12, 20, 22, 19, 19, 24, 24, 24, 26, 28]\n",
        "#mean\n",
        "print(np.mean(numbers))\n",
        "\n",
        "# median\n",
        "print(np.median(numbers))\n",
        "\n",
        "# mode\n",
        "import statistics\n",
        "print(statistics.mode(numbers))"
      ],
      "metadata": {
        "colab": {
          "base_uri": "https://localhost:8080/"
        },
        "id": "6GA54_Wrxfjq",
        "outputId": "3ebdf4a2-6d4a-4943-c63b-00b657d5b67d"
      },
      "execution_count": 1,
      "outputs": [
        {
          "output_type": "stream",
          "name": "stdout",
          "text": [
            "19.6\n",
            "19.0\n",
            "12\n"
          ]
        }
      ]
    },
    {
      "cell_type": "markdown",
      "source": [
        "Question 6: Compute the covariance and correlation coefficient between the following\n",
        "two datasets provided as lists in Python:\n",
        "list_x = [10, 20, 30, 40, 50]\n",
        "list_y = [15, 25, 35, 45, 60]"
      ],
      "metadata": {
        "id": "2jKws3eCxqSl"
      }
    },
    {
      "cell_type": "code",
      "source": [
        "import numpy as np\n",
        "\n",
        "# Data\n",
        "list_x = [10, 20, 30, 40, 50]\n",
        "list_y = [15, 25, 35, 45, 60]\n",
        "\n",
        "# Convert to numpy arrays\n",
        "x = np.array(list_x)\n",
        "y = np.array(list_y)\n",
        "\n",
        "# Covariance matrix (2x2)\n",
        "cov_matrix = np.cov(x, y, ddof=0)   # ddof=0 → population covariance\n",
        "cov_xy = cov_matrix[0, 1]\n",
        "\n",
        "# Correlation coefficient\n",
        "corr_matrix = np.corrcoef(x, y)\n",
        "corr_xy = corr_matrix[0, 1]\n",
        "\n",
        "print(\"Covariance:\", cov_xy)\n",
        "print(\"Correlation Coefficient:\", corr_xy)\n"
      ],
      "metadata": {
        "colab": {
          "base_uri": "https://localhost:8080/"
        },
        "id": "NDlx_hgTxtgd",
        "outputId": "a0d973bf-8828-4a8b-aeca-0fc7c8f6770f"
      },
      "execution_count": 2,
      "outputs": [
        {
          "output_type": "stream",
          "name": "stdout",
          "text": [
            "Covariance: 220.0\n",
            "Correlation Coefficient: 0.995893206467704\n"
          ]
        }
      ]
    },
    {
      "cell_type": "markdown",
      "source": [
        "Question 7: Write a Python script to draw a boxplot for the following numeric list and\n",
        "identify its outliers. Explain the result:\n",
        "data = [12, 14, 14, 15, 18, 19, 19, 21, 22, 22, 23, 23, 24, 26, 29, 35]"
      ],
      "metadata": {
        "id": "jAX361eaZcCx"
      }
    },
    {
      "cell_type": "code",
      "source": [
        "import matplotlib.pyplot as plt\n",
        "import numpy as np\n",
        "\n",
        "# Data\n",
        "data = [12, 14, 14, 15, 18, 19, 19, 21, 22, 22, 23, 23, 24, 26, 29, 35]\n",
        "\n",
        "# Draw boxplot\n",
        "plt.boxplot(data, vert=False, patch_artist=True, boxprops=dict(facecolor=\"lightblue\"))\n",
        "plt.title(\"Boxplot of Data\")\n",
        "plt.xlabel(\"Values\")\n",
        "plt.show()\n",
        "\n",
        "# Calculate Q1, Q3, and IQR\n",
        "Q1 = np.percentile(data, 25)\n",
        "Q3 = np.percentile(data, 75)\n",
        "IQR = Q3 - Q1\n",
        "\n",
        "# Outlier thresholds\n",
        "lower_bound = Q1 - 1.5 * IQR\n",
        "upper_bound = Q3 + 1.5 * IQR\n",
        "\n",
        "# Identify outliers\n",
        "outliers = [x for x in data if x < lower_bound or x > upper_bound]\n",
        "\n",
        "print(\"Q1:\", Q1)\n",
        "print(\"Q3:\", Q3)\n",
        "print(\"IQR:\", IQR)\n",
        "print(\"Lower Bound:\", lower_bound)\n",
        "print(\"Upper Bound:\", upper_bound)\n",
        "print(\"Outliers:\", outliers)\n"
      ],
      "metadata": {
        "colab": {
          "base_uri": "https://localhost:8080/",
          "height": 576
        },
        "id": "Wi_zCMh6ZkoL",
        "outputId": "6f334ff0-3fa2-40dd-a1dd-571e5977e7d4"
      },
      "execution_count": 1,
      "outputs": [
        {
          "output_type": "display_data",
          "data": {
            "text/plain": [
              "<Figure size 640x480 with 1 Axes>"
            ],
            "image/png": "[encoded data removed]"
          },
          "metadata": {}
        },
        {
          "output_type": "stream",
          "name": "stdout",
          "text": [
            "Q1: 17.25\n",
            "Q3: 23.25\n",
            "IQR: 6.0\n",
            "Lower Bound: 8.25\n",
            "Upper Bound: 32.25\n",
            "Outliers: [35]\n"
          ]
        }
      ]
    },
    {
      "cell_type": "markdown",
      "source": [
        "Question 8: You are working as a data analyst in an e-commerce company. The\n",
        "marketing team wants to know if there is a relationship between advertising spend and\n",
        "daily sales.\n",
        "● Explain how you would use covariance and correlation to explore this\n",
        "relationship.\n",
        "● Write Python code to compute the correlation between the two lists:\n",
        "advertising_spend = [200, 250, 300, 400, 500]   \n",
        "daily_sales = [2200, 2450, 2750, 3200, 4000]"
      ],
      "metadata": {
        "id": "FXwzWr-GZ6ML"
      }
    },
    {
      "cell_type": "markdown",
      "source": [
        "-> Part 1: Concept – Covariance vs Correlation\n",
        "\n",
        "Covariance\n",
        "\n",
        "Measures how two variables move together.\n",
        "\n",
        "Positive covariance → when advertising spend increases, sales also increase.\n",
        "\n",
        "Negative covariance → when advertising spend increases, sales decrease.\n",
        "\n",
        "Limitation: Covariance is not standardized, so its value depends on units (e.g., rupees vs dollars).\n",
        "\n",
        "Correlation\n",
        "\n",
        "Standardized form of covariance (ranges from -1 to +1).\n",
        "\n",
        "+1 = perfect positive relationship (higher ads → higher sales).\n",
        "\n",
        "-1 = perfect negative relationship (higher ads → lower sales).\n",
        "\n",
        "0 = no linear relationship.\n",
        "\n",
        "More interpretable than covariance."
      ],
      "metadata": {
        "id": "t6b9rAwWaZf9"
      }
    },
    {
      "cell_type": "code",
      "source": [
        "import numpy as np\n",
        "\n",
        "# Data\n",
        "advertising_spend = [200, 250, 300, 400, 500]\n",
        "daily_sales = [2200, 2450, 2750, 3200, 4000]\n",
        "\n",
        "# Convert to numpy arrays\n",
        "x = np.array(advertising_spend)\n",
        "y = np.array(daily_sales)\n",
        "\n",
        "# Covariance\n",
        "cov_matrix = np.cov(x, y, ddof=0)   # population covariance\n",
        "cov_xy = cov_matrix[0, 1]\n",
        "\n",
        "# Correlation\n",
        "corr_matrix = np.corrcoef(x, y)\n",
        "corr_xy = corr_matrix[0, 1]\n",
        "\n",
        "print(\"Covariance:\", cov_xy)\n",
        "print(\"Correlation Coefficient:\", corr_xy)\n"
      ],
      "metadata": {
        "colab": {
          "base_uri": "https://localhost:8080/"
        },
        "id": "JNtJ72j_aB0r",
        "outputId": "99acd9a6-2b2b-4d0e-a429-7644331ef143"
      },
      "execution_count": 3,
      "outputs": [
        {
          "output_type": "stream",
          "name": "stdout",
          "text": [
            "Covariance: 67900.0\n",
            "Correlation Coefficient: 0.9935824101653329\n"
          ]
        }
      ]
    },
    {
      "cell_type": "markdown",
      "source": [
        "Question 9: Your team has collected customer satisfaction survey data on a scale of\n",
        "1-10 and wants to understand its distribution before launching a new product.\n",
        "● Explain which summary statistics and visualizations (e.g. mean, standard\n",
        "deviation, histogram) you’d use.\n",
        "● Write Python code to create a histogram using Matplotlib for the survey data:\n",
        "survey_scores = [7, 8, 5, 9, 6, 7, 8, 9, 10, 4, 7, 6, 9, 8, 7]"
      ],
      "metadata": {
        "id": "lpYhJ-MEajEI"
      }
    },
    {
      "cell_type": "markdown",
      "source": [
        "Part 1: How to Understand the Distribution\n",
        "\n",
        "To analyze customer satisfaction scores (1–10 scale), we would use:\n",
        "\n",
        "Summary Statistics\n",
        "\n",
        "Mean (average) → overall satisfaction level.\n",
        "\n",
        "Median → central tendency (less affected by outliers).\n",
        "\n",
        "Mode → most common rating.\n",
        "\n",
        "Standard deviation (σ) → how spread out the scores are.\n",
        "\n",
        "Small σ → most customers feel similarly.\n",
        "\n",
        "Large σ → customers are divided.\n",
        "\n",
        "Minimum & Maximum → range of satisfaction levels.\n",
        "\n",
        "Visualizations\n",
        "\n",
        "Histogram → to see how scores are distributed (e.g., many 7s/8s?).\n",
        "\n",
        "Boxplot → to check spread, median, and potential outliers.\n",
        "\n",
        "Bar chart (if discrete counts matter) → shows frequency of each score (since 1–10 are discrete integers)."
      ],
      "metadata": {
        "id": "4vgtB9cYa8Pk"
      }
    },
    {
      "cell_type": "code",
      "source": [
        "import matplotlib.pyplot as plt\n",
        "import numpy as np\n",
        "\n",
        "# Data\n",
        "survey_scores = [7, 8, 5, 9, 6, 7, 8, 9, 10, 4, 7, 6, 9, 8, 7]\n",
        "\n",
        "# Compute summary statistics\n",
        "mean_score = np.mean(survey_scores)\n",
        "median_score = np.median(survey_scores)\n",
        "std_dev = np.std(survey_scores)\n",
        "mode_score = max(set(survey_scores), key=survey_scores.count)\n",
        "\n",
        "print(\"Mean:\", mean_score)\n",
        "print(\"Median:\", median_score)\n",
        "print(\"Mode:\", mode_score)\n",
        "print(\"Standard Deviation:\", std_dev)\n",
        "print(\"Min:\", min(survey_scores))\n",
        "print(\"Max:\", max(survey_scores))\n",
        "\n",
        "# Histogram\n",
        "plt.hist(survey_scores, bins=6, color=\"skyblue\", edgecolor=\"black\")\n",
        "plt.title(\"Customer Satisfaction Survey Distribution\")\n",
        "plt.xlabel(\"Survey Score (1-10)\")\n",
        "plt.ylabel(\"Frequency\")\n",
        "plt.axvline(mean_score, color='red', linestyle='dashed', linewidth=1, label=f\"Mean = {mean_score:.2f}\")\n",
        "plt.axvline(median_score, color='green', linestyle='dashed', linewidth=1, label=f\"Median = {median_score}\")\n",
        "plt.legend()\n",
        "plt.show()\n"
      ],
      "metadata": {
        "colab": {
          "base_uri": "https://localhost:8080/",
          "height": 576
        },
        "id": "0JoASaMLaqAY",
        "outputId": "6d7c12f5-e4fe-4254-8a96-cb12d9833a95"
      },
      "execution_count": 4,
      "outputs": [
        {
          "output_type": "stream",
          "name": "stdout",
          "text": [
            "Mean: 7.333333333333333\n",
            "Median: 7.0\n",
            "Mode: 7\n",
            "Standard Deviation: 1.577621275493231\n",
            "Min: 4\n",
            "Max: 10\n"
          ]
        },
        {
          "output_type": "display_data",
          "data": {
            "text/plain": [
              "<Figure size 640x480 with 1 Axes>"
            ],
            "image/png": "[encoded data removed]"
          },
          "metadata": {}
        }
      ]
    }
  ]
}